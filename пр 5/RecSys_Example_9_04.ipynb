{
 "cells": [
  {
   "cell_type": "code",
   "execution_count": 42,
   "id": "05d3e651-6db5-44a2-8fe0-e3d7495d48ec",
   "metadata": {},
   "outputs": [],
   "source": [
    "import pandas as pd\n",
    "import numpy as np\n",
    "import implicit\n",
    "\n",
    "import scipy\n",
    "\n",
    "import catboost\n",
    "\n",
    "from implicit.evaluation import ndcg_at_k, mean_average_precision_at_k, precision_at_k\n",
    "\n",
    "from sklearn.model_selection import train_test_split\n",
    "\n",
    "from sklearn.utils import shuffle\n",
    "\n",
    "import matplotlib.pyplot as plt\n",
    "\n",
    "import rectools\n",
    "\n",
    "from implicit.nearest_neighbours import TFIDFRecommender, BM25Recommender\n",
    "from implicit.als import AlternatingLeastSquares\n",
    "\n",
    "from rectools import Columns\n",
    "from rectools.dataset import Dataset\n",
    "from rectools.metrics import Precision, Recall, MeanInvUserFreq, Serendipity, MAP, calc_metrics, MeanInvUserFreq\n",
    "from rectools.models import ImplicitItemKNNWrapperModel, RandomModel, PopularModel, ImplicitALSWrapperModel, EASEModel\n",
    "from rectools.model_selection import TimeRangeSplitter, cross_validate"
   ]
  },
  {
   "cell_type": "code",
   "execution_count": 59,
   "id": "f5a4ca5d-3619-41bb-8ea8-339692f35428",
   "metadata": {},
   "outputs": [],
   "source": [
    "data = pd.read_csv('recs.csv')"
   ]
  },
  {
   "cell_type": "code",
   "execution_count": 60,
   "id": "ef0751af-1a73-4dab-82be-259913971d87",
   "metadata": {},
   "outputs": [
    {
     "data": {
      "text/html": [
       "<div>\n",
       "<style scoped>\n",
       "    .dataframe tbody tr th:only-of-type {\n",
       "        vertical-align: middle;\n",
       "    }\n",
       "\n",
       "    .dataframe tbody tr th {\n",
       "        vertical-align: top;\n",
       "    }\n",
       "\n",
       "    .dataframe thead th {\n",
       "        text-align: right;\n",
       "    }\n",
       "</style>\n",
       "<table border=\"1\" class=\"dataframe\">\n",
       "  <thead>\n",
       "    <tr style=\"text-align: right;\">\n",
       "      <th></th>\n",
       "      <th>sale_date</th>\n",
       "      <th>user_id</th>\n",
       "      <th>Gender</th>\n",
       "      <th>Age</th>\n",
       "      <th>R</th>\n",
       "      <th>F</th>\n",
       "      <th>M</th>\n",
       "      <th>item_id</th>\n",
       "      <th>Qty</th>\n",
       "      <th>Amount</th>\n",
       "      <th>Product_Name</th>\n",
       "      <th>Product_Line_1</th>\n",
       "      <th>Color</th>\n",
       "      <th>Discount</th>\n",
       "      <th>Base_Price</th>\n",
       "    </tr>\n",
       "  </thead>\n",
       "  <tbody>\n",
       "    <tr>\n",
       "      <th>0</th>\n",
       "      <td>2023-04-08</td>\n",
       "      <td>452030256342</td>\n",
       "      <td>U</td>\n",
       "      <td>52.0</td>\n",
       "      <td>1</td>\n",
       "      <td>1</td>\n",
       "      <td>2</td>\n",
       "      <td>147003</td>\n",
       "      <td>1.0</td>\n",
       "      <td>1230.0</td>\n",
       "      <td>Паддл Крик Рислинг Розе</td>\n",
       "      <td>ВИНО</td>\n",
       "      <td>РОЗОВОЕ</td>\n",
       "      <td>0.0</td>\n",
       "      <td>1640.0</td>\n",
       "    </tr>\n",
       "    <tr>\n",
       "      <th>1</th>\n",
       "      <td>2022-01-11</td>\n",
       "      <td>722758534602</td>\n",
       "      <td>U</td>\n",
       "      <td>0.0</td>\n",
       "      <td>0</td>\n",
       "      <td>0</td>\n",
       "      <td>0</td>\n",
       "      <td>147367</td>\n",
       "      <td>12.0</td>\n",
       "      <td>4020.0</td>\n",
       "      <td>Альма Романа Пино Гриджо</td>\n",
       "      <td>ВИНО</td>\n",
       "      <td>БЕЛОЕ</td>\n",
       "      <td>0.0</td>\n",
       "      <td>370.0</td>\n",
       "    </tr>\n",
       "    <tr>\n",
       "      <th>2</th>\n",
       "      <td>2022-07-25</td>\n",
       "      <td>416284110335</td>\n",
       "      <td>Ж</td>\n",
       "      <td>0.0</td>\n",
       "      <td>2</td>\n",
       "      <td>5</td>\n",
       "      <td>5</td>\n",
       "      <td>146069</td>\n",
       "      <td>2.0</td>\n",
       "      <td>2616.0</td>\n",
       "      <td>Просекко Супериоре Вальдоббьяд</td>\n",
       "      <td>ШАМПАНСКОЕ</td>\n",
       "      <td>БЕЛОЕ</td>\n",
       "      <td>0.0</td>\n",
       "      <td>1640.0</td>\n",
       "    </tr>\n",
       "    <tr>\n",
       "      <th>3</th>\n",
       "      <td>2022-11-02</td>\n",
       "      <td>846586656243</td>\n",
       "      <td>U</td>\n",
       "      <td>0.0</td>\n",
       "      <td>0</td>\n",
       "      <td>0</td>\n",
       "      <td>0</td>\n",
       "      <td>118402</td>\n",
       "      <td>6.0</td>\n",
       "      <td>8755.5</td>\n",
       "      <td>Ле Риме (Тоскана) в п/у</td>\n",
       "      <td>ВИНО</td>\n",
       "      <td>БЕЛОЕ</td>\n",
       "      <td>4714.5</td>\n",
       "      <td>1780.0</td>\n",
       "    </tr>\n",
       "    <tr>\n",
       "      <th>4</th>\n",
       "      <td>2022-02-13</td>\n",
       "      <td>228487079590</td>\n",
       "      <td>U</td>\n",
       "      <td>0.0</td>\n",
       "      <td>3</td>\n",
       "      <td>2</td>\n",
       "      <td>4</td>\n",
       "      <td>144236</td>\n",
       "      <td>1.0</td>\n",
       "      <td>1549.0</td>\n",
       "      <td>Божоле-Вилляж</td>\n",
       "      <td>ВИНО</td>\n",
       "      <td>КРАСНОЕ</td>\n",
       "      <td>0.0</td>\n",
       "      <td>1740.0</td>\n",
       "    </tr>\n",
       "  </tbody>\n",
       "</table>\n",
       "</div>"
      ],
      "text/plain": [
       "    sale_date       user_id Gender   Age  R  F  M  item_id   Qty  Amount  \\\n",
       "0  2023-04-08  452030256342      U  52.0  1  1  2   147003   1.0  1230.0   \n",
       "1  2022-01-11  722758534602      U   0.0  0  0  0   147367  12.0  4020.0   \n",
       "2  2022-07-25  416284110335      Ж   0.0  2  5  5   146069   2.0  2616.0   \n",
       "3  2022-11-02  846586656243      U   0.0  0  0  0   118402   6.0  8755.5   \n",
       "4  2022-02-13  228487079590      U   0.0  3  2  4   144236   1.0  1549.0   \n",
       "\n",
       "                     Product_Name Product_Line_1    Color  Discount  \\\n",
       "0         Паддл Крик Рислинг Розе           ВИНО  РОЗОВОЕ       0.0   \n",
       "1        Альма Романа Пино Гриджо           ВИНО    БЕЛОЕ       0.0   \n",
       "2  Просекко Супериоре Вальдоббьяд     ШАМПАНСКОЕ    БЕЛОЕ       0.0   \n",
       "3         Ле Риме (Тоскана) в п/у           ВИНО    БЕЛОЕ    4714.5   \n",
       "4                   Божоле-Вилляж           ВИНО  КРАСНОЕ       0.0   \n",
       "\n",
       "   Base_Price  \n",
       "0      1640.0  \n",
       "1       370.0  \n",
       "2      1640.0  \n",
       "3      1780.0  \n",
       "4      1740.0  "
      ]
     },
     "execution_count": 60,
     "metadata": {},
     "output_type": "execute_result"
    }
   ],
   "source": [
    "data.head()"
   ]
  },
  {
   "cell_type": "code",
   "execution_count": 61,
   "id": "284417eb-cb6f-497e-ba26-f130d8eb533b",
   "metadata": {},
   "outputs": [],
   "source": [
    "interactions = data[['sale_date', 'user_id', 'item_id', 'Qty']]"
   ]
  },
  {
   "cell_type": "code",
   "execution_count": 62,
   "id": "e3a58b9a-f80b-4499-95ed-71fdf898bea8",
   "metadata": {},
   "outputs": [
    {
     "name": "stderr",
     "output_type": "stream",
     "text": [
      "/tmp/ipykernel_143986/1579602194.py:1: SettingWithCopyWarning: \n",
      "A value is trying to be set on a copy of a slice from a DataFrame\n",
      "\n",
      "See the caveats in the documentation: https://pandas.pydata.org/pandas-docs/stable/user_guide/indexing.html#returning-a-view-versus-a-copy\n",
      "  interactions.sort_values(by='sale_date', inplace=True)\n"
     ]
    }
   ],
   "source": [
    "interactions.sort_values(by='sale_date', inplace=True)"
   ]
  },
  {
   "cell_type": "code",
   "execution_count": 63,
   "id": "49727a1d-e792-46a2-b4ca-9e02fe80148f",
   "metadata": {},
   "outputs": [
    {
     "name": "stdout",
     "output_type": "stream",
     "text": [
      "<class 'pandas.core.frame.DataFrame'>\n",
      "Index: 2936535 entries, 2309021 to 2607094\n",
      "Data columns (total 4 columns):\n",
      " #   Column     Dtype  \n",
      "---  ------     -----  \n",
      " 0   sale_date  object \n",
      " 1   user_id    int64  \n",
      " 2   item_id    int64  \n",
      " 3   Qty        float64\n",
      "dtypes: float64(1), int64(2), object(1)\n",
      "memory usage: 112.0+ MB\n"
     ]
    }
   ],
   "source": [
    "interactions.info()"
   ]
  },
  {
   "cell_type": "code",
   "execution_count": 64,
   "id": "c3d05a7e-db54-4932-8679-8b2c7c305a2c",
   "metadata": {},
   "outputs": [
    {
     "name": "stderr",
     "output_type": "stream",
     "text": [
      "/tmp/ipykernel_143986/3471329340.py:1: SettingWithCopyWarning: \n",
      "A value is trying to be set on a copy of a slice from a DataFrame.\n",
      "Try using .loc[row_indexer,col_indexer] = value instead\n",
      "\n",
      "See the caveats in the documentation: https://pandas.pydata.org/pandas-docs/stable/user_guide/indexing.html#returning-a-view-versus-a-copy\n",
      "  interactions.sale_date = pd.to_datetime(interactions.sale_date)\n"
     ]
    }
   ],
   "source": [
    "interactions.sale_date = pd.to_datetime(interactions.sale_date)"
   ]
  },
  {
   "cell_type": "code",
   "execution_count": 65,
   "id": "653e0adc-489d-441c-be82-e8fcd6c2329e",
   "metadata": {},
   "outputs": [],
   "source": [
    "# Train/test"
   ]
  },
  {
   "cell_type": "code",
   "execution_count": 66,
   "id": "ec41a8fd-068a-41f5-b036-8dbfb0960fdc",
   "metadata": {},
   "outputs": [
    {
     "name": "stdout",
     "output_type": "stream",
     "text": [
      "min дата в interactions: 2022-01-01 00:00:00\n",
      "max дата в interactions: 2024-03-27 00:00:00\n"
     ]
    }
   ],
   "source": [
    "max_date = interactions['sale_date'].max()\n",
    "min_date = interactions['sale_date'].min()\n",
    "\n",
    "print(f\"min дата в interactions: {min_date}\")\n",
    "print(f\"max дата в interactions: {max_date}\")"
   ]
  },
  {
   "cell_type": "code",
   "execution_count": 69,
   "id": "33507e45-ec95-4fc9-925a-ecf309f6e2da",
   "metadata": {},
   "outputs": [
    {
     "name": "stdout",
     "output_type": "stream",
     "text": [
      "train: (2376623, 4)\n",
      "test: (559912, 4)\n"
     ]
    }
   ],
   "source": [
    "train = interactions[(interactions['sale_date'] < max_date - pd.Timedelta(days=120))]\n",
    "test = interactions[(interactions['sale_date'] >= max_date - pd.Timedelta(days=120))]\n",
    "\n",
    "print(f\"train: {train.shape}\")\n",
    "print(f\"test: {test.shape}\")"
   ]
  },
  {
   "cell_type": "code",
   "execution_count": 70,
   "id": "e30229ed-45e0-412d-9c5d-fe99c15a2feb",
   "metadata": {},
   "outputs": [
    {
     "data": {
      "text/html": [
       "<div>\n",
       "<style scoped>\n",
       "    .dataframe tbody tr th:only-of-type {\n",
       "        vertical-align: middle;\n",
       "    }\n",
       "\n",
       "    .dataframe tbody tr th {\n",
       "        vertical-align: top;\n",
       "    }\n",
       "\n",
       "    .dataframe thead th {\n",
       "        text-align: right;\n",
       "    }\n",
       "</style>\n",
       "<table border=\"1\" class=\"dataframe\">\n",
       "  <thead>\n",
       "    <tr style=\"text-align: right;\">\n",
       "      <th></th>\n",
       "      <th>sale_date</th>\n",
       "      <th>user_id</th>\n",
       "      <th>item_id</th>\n",
       "      <th>Qty</th>\n",
       "    </tr>\n",
       "  </thead>\n",
       "  <tbody>\n",
       "    <tr>\n",
       "      <th>2309021</th>\n",
       "      <td>2022-01-01</td>\n",
       "      <td>791652193564</td>\n",
       "      <td>138415</td>\n",
       "      <td>1.0</td>\n",
       "    </tr>\n",
       "    <tr>\n",
       "      <th>2521819</th>\n",
       "      <td>2022-01-01</td>\n",
       "      <td>914509930443</td>\n",
       "      <td>147061</td>\n",
       "      <td>1.0</td>\n",
       "    </tr>\n",
       "    <tr>\n",
       "      <th>1315784</th>\n",
       "      <td>2022-01-01</td>\n",
       "      <td>663944080364</td>\n",
       "      <td>138421</td>\n",
       "      <td>1.0</td>\n",
       "    </tr>\n",
       "    <tr>\n",
       "      <th>688323</th>\n",
       "      <td>2022-01-01</td>\n",
       "      <td>114605570770</td>\n",
       "      <td>138416</td>\n",
       "      <td>2.0</td>\n",
       "    </tr>\n",
       "    <tr>\n",
       "      <th>367133</th>\n",
       "      <td>2022-01-01</td>\n",
       "      <td>262499958887</td>\n",
       "      <td>135283</td>\n",
       "      <td>1.0</td>\n",
       "    </tr>\n",
       "  </tbody>\n",
       "</table>\n",
       "</div>"
      ],
      "text/plain": [
       "         sale_date       user_id  item_id  Qty\n",
       "2309021 2022-01-01  791652193564   138415  1.0\n",
       "2521819 2022-01-01  914509930443   147061  1.0\n",
       "1315784 2022-01-01  663944080364   138421  1.0\n",
       "688323  2022-01-01  114605570770   138416  2.0\n",
       "367133  2022-01-01  262499958887   135283  1.0"
      ]
     },
     "execution_count": 70,
     "metadata": {},
     "output_type": "execute_result"
    }
   ],
   "source": [
    "train.head()"
   ]
  },
  {
   "cell_type": "code",
   "execution_count": 13,
   "id": "eb799fe3-dc90-48ee-92a2-ebad95a0d080",
   "metadata": {},
   "outputs": [],
   "source": [
    "client_mapping = {client_id: i for i, client_id in enumerate(train['user_id'].unique())}\n",
    "inverse_client_mapping = {i: client_id for client_id, i in client_mapping.items()}\n",
    "\n",
    "sku_mapping = {sku: i for i, sku in enumerate(train['item_id'].unique())}\n",
    "inverse_sku_mapping = {i: sku for sku, i in sku_mapping.items()}"
   ]
  },
  {
   "cell_type": "code",
   "execution_count": 14,
   "id": "344fc7c1-c579-4b6e-9a65-65dac24e8e8f",
   "metadata": {},
   "outputs": [],
   "source": [
    "users = np.array(train['user_id'].map(client_mapping))\n",
    "items = np.array(train['item_id'].map(sku_mapping))\n",
    "ratings = np.array(train['Qty'])"
   ]
  },
  {
   "cell_type": "code",
   "execution_count": 15,
   "id": "b5c13b0e-5ade-4d14-b402-5baa8bd07ffd",
   "metadata": {},
   "outputs": [],
   "source": [
    "user_item_matrix = scipy.sparse.csr_matrix((ratings, (users, items)))"
   ]
  },
  {
   "cell_type": "code",
   "execution_count": 16,
   "id": "56f911ed-7b67-4222-ab6b-bdc89900e405",
   "metadata": {},
   "outputs": [
    {
     "name": "stderr",
     "output_type": "stream",
     "text": [
      "/home/pzherdev/.local/lib/python3.10/site-packages/implicit/cpu/als.py:95: RuntimeWarning: OpenBLAS is configured to use 48 threads. It is highly recommended to disable its internal threadpool by setting the environment variable 'OPENBLAS_NUM_THREADS=1' or by calling 'threadpoolctl.threadpool_limits(1, \"blas\")'. Having OpenBLAS use a threadpool can lead to severe performance issues here.\n",
      "  check_blas_config()\n"
     ]
    }
   ],
   "source": [
    "als = implicit.als.AlternatingLeastSquares(factors = 10, \\\n",
    "      iterations = 10, use_gpu = False, calculate_training_loss = False, regularization = 0.1)"
   ]
  },
  {
   "cell_type": "code",
   "execution_count": 17,
   "id": "2b77545f-5dbe-49d1-9d39-9dfe6ce0e833",
   "metadata": {},
   "outputs": [
    {
     "data": {
      "application/vnd.jupyter.widget-view+json": {
       "model_id": "fffcfd01587a4b2195d1c16bcb5a328d",
       "version_major": 2,
       "version_minor": 0
      },
      "text/plain": [
       "  0%|          | 0/10 [00:00<?, ?it/s]"
      ]
     },
     "metadata": {},
     "output_type": "display_data"
    }
   ],
   "source": [
    "als.fit(user_item_matrix)"
   ]
  },
  {
   "cell_type": "code",
   "execution_count": 35,
   "id": "6bc85799-1cdb-459f-a5bb-a788a51288dd",
   "metadata": {},
   "outputs": [
    {
     "data": {
      "text/html": [
       "<div>\n",
       "<style scoped>\n",
       "    .dataframe tbody tr th:only-of-type {\n",
       "        vertical-align: middle;\n",
       "    }\n",
       "\n",
       "    .dataframe tbody tr th {\n",
       "        vertical-align: top;\n",
       "    }\n",
       "\n",
       "    .dataframe thead th {\n",
       "        text-align: right;\n",
       "    }\n",
       "</style>\n",
       "<table border=\"1\" class=\"dataframe\">\n",
       "  <thead>\n",
       "    <tr style=\"text-align: right;\">\n",
       "      <th></th>\n",
       "      <th>sale_date</th>\n",
       "      <th>user_id</th>\n",
       "      <th>item_id</th>\n",
       "      <th>Qty</th>\n",
       "    </tr>\n",
       "  </thead>\n",
       "  <tbody>\n",
       "    <tr>\n",
       "      <th>2309021</th>\n",
       "      <td>2022-01-01</td>\n",
       "      <td>791652193564</td>\n",
       "      <td>138415</td>\n",
       "      <td>1.0</td>\n",
       "    </tr>\n",
       "    <tr>\n",
       "      <th>2521819</th>\n",
       "      <td>2022-01-01</td>\n",
       "      <td>914509930443</td>\n",
       "      <td>147061</td>\n",
       "      <td>1.0</td>\n",
       "    </tr>\n",
       "    <tr>\n",
       "      <th>1315784</th>\n",
       "      <td>2022-01-01</td>\n",
       "      <td>663944080364</td>\n",
       "      <td>138421</td>\n",
       "      <td>1.0</td>\n",
       "    </tr>\n",
       "    <tr>\n",
       "      <th>688323</th>\n",
       "      <td>2022-01-01</td>\n",
       "      <td>114605570770</td>\n",
       "      <td>138416</td>\n",
       "      <td>2.0</td>\n",
       "    </tr>\n",
       "    <tr>\n",
       "      <th>367133</th>\n",
       "      <td>2022-01-01</td>\n",
       "      <td>262499958887</td>\n",
       "      <td>135283</td>\n",
       "      <td>1.0</td>\n",
       "    </tr>\n",
       "  </tbody>\n",
       "</table>\n",
       "</div>"
      ],
      "text/plain": [
       "         sale_date       user_id  item_id  Qty\n",
       "2309021 2022-01-01  791652193564   138415  1.0\n",
       "2521819 2022-01-01  914509930443   147061  1.0\n",
       "1315784 2022-01-01  663944080364   138421  1.0\n",
       "688323  2022-01-01  114605570770   138416  2.0\n",
       "367133  2022-01-01  262499958887   135283  1.0"
      ]
     },
     "execution_count": 35,
     "metadata": {},
     "output_type": "execute_result"
    }
   ],
   "source": [
    "train.head()"
   ]
  },
  {
   "cell_type": "code",
   "execution_count": 37,
   "id": "89fb2510-1db0-42ac-aa1d-82e31ebf7cf0",
   "metadata": {},
   "outputs": [
    {
     "data": {
      "text/plain": [
       "(array([   0,   23,  474,   10,    8, 4565, 4706,    3,  115,  459],\n",
       "       dtype=int32),\n",
       " array([0.40615636, 0.28894925, 0.2229215 , 0.19292818, 0.16321415,\n",
       "        0.14012612, 0.13277313, 0.1222131 , 0.11138402, 0.10844271],\n",
       "       dtype=float32))"
      ]
     },
     "execution_count": 37,
     "metadata": {},
     "output_type": "execute_result"
    }
   ],
   "source": [
    "als.recommend(client_mapping[791652193564],\n",
    "              N=10, user_items=user_item_matrix, \n",
    "              filter_already_liked_items=False)"
   ]
  },
  {
   "cell_type": "code",
   "execution_count": 38,
   "id": "d5bc7178-b374-45aa-9900-de483031494c",
   "metadata": {},
   "outputs": [],
   "source": [
    "# rectools"
   ]
  },
  {
   "cell_type": "code",
   "execution_count": 71,
   "id": "89c0a060-30c0-4c0e-ad0d-937c24754479",
   "metadata": {},
   "outputs": [
    {
     "name": "stderr",
     "output_type": "stream",
     "text": [
      "/tmp/ipykernel_143986/573105263.py:1: SettingWithCopyWarning: \n",
      "A value is trying to be set on a copy of a slice from a DataFrame\n",
      "\n",
      "See the caveats in the documentation: https://pandas.pydata.org/pandas-docs/stable/user_guide/indexing.html#returning-a-view-versus-a-copy\n",
      "  interactions.rename(columns={'sale_date':Columns.Datetime, 'Qty':Columns.Weight}, inplace=True)\n"
     ]
    }
   ],
   "source": [
    "interactions.rename(columns={'sale_date':Columns.Datetime, 'Qty':Columns.Weight}, inplace=True)"
   ]
  },
  {
   "cell_type": "code",
   "execution_count": 72,
   "id": "7e1db215-b21d-4949-8810-9f6e25cf365f",
   "metadata": {},
   "outputs": [
    {
     "name": "stdout",
     "output_type": "stream",
     "text": [
      "CPU times: user 325 ms, sys: 40.5 ms, total: 365 ms\n",
      "Wall time: 364 ms\n"
     ]
    }
   ],
   "source": [
    "%%time\n",
    "dataset = Dataset.construct(interactions_df=interactions)"
   ]
  },
  {
   "cell_type": "code",
   "execution_count": 73,
   "id": "50511e74-72c7-428f-8158-3de6e5c4a57d",
   "metadata": {},
   "outputs": [],
   "source": [
    "# Take few simple models to compare\n",
    "models = {\n",
    "    \"random\": RandomModel(random_state=42),\n",
    "    \"popular\": PopularModel(),\n",
    "    \"most_raited\": PopularModel(popularity=\"sum_weight\"),\n",
    "    \"tfidf_k=5\": ImplicitItemKNNWrapperModel(model=TFIDFRecommender(K=5)),\n",
    "    \"tfidf_k=10\": ImplicitItemKNNWrapperModel(model=TFIDFRecommender(K=10)),\n",
    "    \"bm25_k=10_k1=0.05_b=0.1\": ImplicitItemKNNWrapperModel(model=BM25Recommender(K=5, K1=0.05, B=0.1)),\n",
    "    \"als\" : ImplicitALSWrapperModel(AlternatingLeastSquares(factors = 10, iterations = 10, use_gpu = False, calculate_training_loss = False, regularization = 0.1)),\n",
    "    \"ease\" : EASEModel()\n",
    "}\n",
    "\n",
    "# We will calculate several classic (precision@k and recall@k) and \"beyond accuracy\" metrics\n",
    "metrics = {\n",
    "    \"prec@1\": Precision(k=1),\n",
    "    \"prec@10\": Precision(k=10),\n",
    "    \"prec@1\": Recall(k=10),\n",
    "    \"recall@10\": Recall(k=10),\n",
    "    \"novelty\": MeanInvUserFreq(k=10),\n",
    "    \"serendipity\": Serendipity(k=10)\n",
    "}\n",
    "\n",
    "K_RECS = 10"
   ]
  },
  {
   "cell_type": "code",
   "execution_count": 74,
   "id": "32ec16ab-a477-4cc7-aed4-f35ab0c8b644",
   "metadata": {},
   "outputs": [],
   "source": [
    "n_splits = 3\n",
    "\n",
    "splitter = TimeRangeSplitter(\n",
    "    test_size=\"7D\",\n",
    "    n_splits=n_splits,\n",
    "    filter_already_seen=True,\n",
    "    filter_cold_items=True,\n",
    "    filter_cold_users=True,\n",
    ")"
   ]
  },
  {
   "cell_type": "code",
   "execution_count": 75,
   "id": "419e2d08-6ad9-4c81-b2fb-9bd3af917446",
   "metadata": {},
   "outputs": [
    {
     "name": "stdout",
     "output_type": "stream",
     "text": [
      "CPU times: user 16min 39s, sys: 2h 9min 54s, total: 2h 26min 34s\n",
      "Wall time: 5min 29s\n"
     ]
    }
   ],
   "source": [
    "%%time\n",
    "\n",
    "# For each fold generate train and test part of dataset\n",
    "# Then fit every model, generate recommendations and calculate metrics\n",
    "\n",
    "cv_results = cross_validate(\n",
    "    dataset=dataset,\n",
    "    splitter=splitter,\n",
    "    models=models,\n",
    "    metrics=metrics,\n",
    "    k=K_RECS,\n",
    "    filter_viewed=True,\n",
    ")"
   ]
  },
  {
   "cell_type": "code",
   "execution_count": 76,
   "id": "74115369-4a66-4502-a559-7e798d23c041",
   "metadata": {},
   "outputs": [
    {
     "data": {
      "text/html": [
       "<style type=\"text/css\">\n",
       "#T_c88c7_row0_col0, #T_c88c7_row0_col2, #T_c88c7_row0_col4, #T_c88c7_row1_col6, #T_c88c7_row2_col8 {\n",
       "  background-color: lightcoral;\n",
       "}\n",
       "#T_c88c7_row0_col6, #T_c88c7_row3_col8, #T_c88c7_row5_col0, #T_c88c7_row5_col2, #T_c88c7_row5_col4 {\n",
       "  background-color: lightgreen;\n",
       "}\n",
       "</style>\n",
       "<table id=\"T_c88c7\">\n",
       "  <thead>\n",
       "    <tr>\n",
       "      <th class=\"blank level0\" >&nbsp;</th>\n",
       "      <th id=\"T_c88c7_level0_col0\" class=\"col_heading level0 col0\" colspan=\"2\">prec@1</th>\n",
       "      <th id=\"T_c88c7_level0_col2\" class=\"col_heading level0 col2\" colspan=\"2\">prec@10</th>\n",
       "      <th id=\"T_c88c7_level0_col4\" class=\"col_heading level0 col4\" colspan=\"2\">recall@10</th>\n",
       "      <th id=\"T_c88c7_level0_col6\" class=\"col_heading level0 col6\" colspan=\"2\">novelty</th>\n",
       "      <th id=\"T_c88c7_level0_col8\" class=\"col_heading level0 col8\" colspan=\"2\">serendipity</th>\n",
       "    </tr>\n",
       "    <tr>\n",
       "      <th class=\"blank level1\" >&nbsp;</th>\n",
       "      <th id=\"T_c88c7_level1_col0\" class=\"col_heading level1 col0\" >mean</th>\n",
       "      <th id=\"T_c88c7_level1_col1\" class=\"col_heading level1 col1\" >std</th>\n",
       "      <th id=\"T_c88c7_level1_col2\" class=\"col_heading level1 col2\" >mean</th>\n",
       "      <th id=\"T_c88c7_level1_col3\" class=\"col_heading level1 col3\" >std</th>\n",
       "      <th id=\"T_c88c7_level1_col4\" class=\"col_heading level1 col4\" >mean</th>\n",
       "      <th id=\"T_c88c7_level1_col5\" class=\"col_heading level1 col5\" >std</th>\n",
       "      <th id=\"T_c88c7_level1_col6\" class=\"col_heading level1 col6\" >mean</th>\n",
       "      <th id=\"T_c88c7_level1_col7\" class=\"col_heading level1 col7\" >std</th>\n",
       "      <th id=\"T_c88c7_level1_col8\" class=\"col_heading level1 col8\" >mean</th>\n",
       "      <th id=\"T_c88c7_level1_col9\" class=\"col_heading level1 col9\" >std</th>\n",
       "    </tr>\n",
       "    <tr>\n",
       "      <th class=\"index_name level0\" >model</th>\n",
       "      <th class=\"blank col0\" >&nbsp;</th>\n",
       "      <th class=\"blank col1\" >&nbsp;</th>\n",
       "      <th class=\"blank col2\" >&nbsp;</th>\n",
       "      <th class=\"blank col3\" >&nbsp;</th>\n",
       "      <th class=\"blank col4\" >&nbsp;</th>\n",
       "      <th class=\"blank col5\" >&nbsp;</th>\n",
       "      <th class=\"blank col6\" >&nbsp;</th>\n",
       "      <th class=\"blank col7\" >&nbsp;</th>\n",
       "      <th class=\"blank col8\" >&nbsp;</th>\n",
       "      <th class=\"blank col9\" >&nbsp;</th>\n",
       "    </tr>\n",
       "  </thead>\n",
       "  <tbody>\n",
       "    <tr>\n",
       "      <th id=\"T_c88c7_level0_row0\" class=\"row_heading level0 row0\" >random</th>\n",
       "      <td id=\"T_c88c7_row0_col0\" class=\"data row0 col0\" >0.001997</td>\n",
       "      <td id=\"T_c88c7_row0_col1\" class=\"data row0 col1\" >0.000233</td>\n",
       "      <td id=\"T_c88c7_row0_col2\" class=\"data row0 col2\" >0.000325</td>\n",
       "      <td id=\"T_c88c7_row0_col3\" class=\"data row0 col3\" >0.000040</td>\n",
       "      <td id=\"T_c88c7_row0_col4\" class=\"data row0 col4\" >0.001997</td>\n",
       "      <td id=\"T_c88c7_row0_col5\" class=\"data row0 col5\" >0.000233</td>\n",
       "      <td id=\"T_c88c7_row0_col6\" class=\"data row0 col6\" >13.109249</td>\n",
       "      <td id=\"T_c88c7_row0_col7\" class=\"data row0 col7\" >0.007145</td>\n",
       "      <td id=\"T_c88c7_row0_col8\" class=\"data row0 col8\" >0.000019</td>\n",
       "      <td id=\"T_c88c7_row0_col9\" class=\"data row0 col9\" >0.000007</td>\n",
       "    </tr>\n",
       "    <tr>\n",
       "      <th id=\"T_c88c7_level0_row1\" class=\"row_heading level0 row1\" >popular</th>\n",
       "      <td id=\"T_c88c7_row1_col0\" class=\"data row1 col0\" >0.078602</td>\n",
       "      <td id=\"T_c88c7_row1_col1\" class=\"data row1 col1\" >0.018139</td>\n",
       "      <td id=\"T_c88c7_row1_col2\" class=\"data row1 col2\" >0.011093</td>\n",
       "      <td id=\"T_c88c7_row1_col3\" class=\"data row1 col3\" >0.002247</td>\n",
       "      <td id=\"T_c88c7_row1_col4\" class=\"data row1 col4\" >0.078602</td>\n",
       "      <td id=\"T_c88c7_row1_col5\" class=\"data row1 col5\" >0.018139</td>\n",
       "      <td id=\"T_c88c7_row1_col6\" class=\"data row1 col6\" >4.528365</td>\n",
       "      <td id=\"T_c88c7_row1_col7\" class=\"data row1 col7\" >0.002519</td>\n",
       "      <td id=\"T_c88c7_row1_col8\" class=\"data row1 col8\" >0.000004</td>\n",
       "      <td id=\"T_c88c7_row1_col9\" class=\"data row1 col9\" >0.000001</td>\n",
       "    </tr>\n",
       "    <tr>\n",
       "      <th id=\"T_c88c7_level0_row2\" class=\"row_heading level0 row2\" >most_raited</th>\n",
       "      <td id=\"T_c88c7_row2_col0\" class=\"data row2 col0\" >0.042240</td>\n",
       "      <td id=\"T_c88c7_row2_col1\" class=\"data row2 col1\" >0.008069</td>\n",
       "      <td id=\"T_c88c7_row2_col2\" class=\"data row2 col2\" >0.005979</td>\n",
       "      <td id=\"T_c88c7_row2_col3\" class=\"data row2 col3\" >0.000904</td>\n",
       "      <td id=\"T_c88c7_row2_col4\" class=\"data row2 col4\" >0.042240</td>\n",
       "      <td id=\"T_c88c7_row2_col5\" class=\"data row2 col5\" >0.008069</td>\n",
       "      <td id=\"T_c88c7_row2_col6\" class=\"data row2 col6\" >5.389964</td>\n",
       "      <td id=\"T_c88c7_row2_col7\" class=\"data row2 col7\" >0.017026</td>\n",
       "      <td id=\"T_c88c7_row2_col8\" class=\"data row2 col8\" >0.000004</td>\n",
       "      <td id=\"T_c88c7_row2_col9\" class=\"data row2 col9\" >0.000001</td>\n",
       "    </tr>\n",
       "    <tr>\n",
       "      <th id=\"T_c88c7_level0_row3\" class=\"row_heading level0 row3\" >tfidf_k=5</th>\n",
       "      <td id=\"T_c88c7_row3_col0\" class=\"data row3 col0\" >0.044091</td>\n",
       "      <td id=\"T_c88c7_row3_col1\" class=\"data row3 col1\" >0.006021</td>\n",
       "      <td id=\"T_c88c7_row3_col2\" class=\"data row3 col2\" >0.006180</td>\n",
       "      <td id=\"T_c88c7_row3_col3\" class=\"data row3 col3\" >0.000693</td>\n",
       "      <td id=\"T_c88c7_row3_col4\" class=\"data row3 col4\" >0.044091</td>\n",
       "      <td id=\"T_c88c7_row3_col5\" class=\"data row3 col5\" >0.006021</td>\n",
       "      <td id=\"T_c88c7_row3_col6\" class=\"data row3 col6\" >9.678062</td>\n",
       "      <td id=\"T_c88c7_row3_col7\" class=\"data row3 col7\" >0.026134</td>\n",
       "      <td id=\"T_c88c7_row3_col8\" class=\"data row3 col8\" >0.000217</td>\n",
       "      <td id=\"T_c88c7_row3_col9\" class=\"data row3 col9\" >0.000036</td>\n",
       "    </tr>\n",
       "    <tr>\n",
       "      <th id=\"T_c88c7_level0_row4\" class=\"row_heading level0 row4\" >tfidf_k=10</th>\n",
       "      <td id=\"T_c88c7_row4_col0\" class=\"data row4 col0\" >0.042692</td>\n",
       "      <td id=\"T_c88c7_row4_col1\" class=\"data row4 col1\" >0.007254</td>\n",
       "      <td id=\"T_c88c7_row4_col2\" class=\"data row4 col2\" >0.005995</td>\n",
       "      <td id=\"T_c88c7_row4_col3\" class=\"data row4 col3\" >0.000723</td>\n",
       "      <td id=\"T_c88c7_row4_col4\" class=\"data row4 col4\" >0.042692</td>\n",
       "      <td id=\"T_c88c7_row4_col5\" class=\"data row4 col5\" >0.007254</td>\n",
       "      <td id=\"T_c88c7_row4_col6\" class=\"data row4 col6\" >9.556698</td>\n",
       "      <td id=\"T_c88c7_row4_col7\" class=\"data row4 col7\" >0.038297</td>\n",
       "      <td id=\"T_c88c7_row4_col8\" class=\"data row4 col8\" >0.000156</td>\n",
       "      <td id=\"T_c88c7_row4_col9\" class=\"data row4 col9\" >0.000015</td>\n",
       "    </tr>\n",
       "    <tr>\n",
       "      <th id=\"T_c88c7_level0_row5\" class=\"row_heading level0 row5\" >bm25_k=10_k1=0.05_b=0.1</th>\n",
       "      <td id=\"T_c88c7_row5_col0\" class=\"data row5 col0\" >0.102244</td>\n",
       "      <td id=\"T_c88c7_row5_col1\" class=\"data row5 col1\" >0.014059</td>\n",
       "      <td id=\"T_c88c7_row5_col2\" class=\"data row5 col2\" >0.014495</td>\n",
       "      <td id=\"T_c88c7_row5_col3\" class=\"data row5 col3\" >0.001689</td>\n",
       "      <td id=\"T_c88c7_row5_col4\" class=\"data row5 col4\" >0.102244</td>\n",
       "      <td id=\"T_c88c7_row5_col5\" class=\"data row5 col5\" >0.014059</td>\n",
       "      <td id=\"T_c88c7_row5_col6\" class=\"data row5 col6\" >5.082030</td>\n",
       "      <td id=\"T_c88c7_row5_col7\" class=\"data row5 col7\" >0.011382</td>\n",
       "      <td id=\"T_c88c7_row5_col8\" class=\"data row5 col8\" >0.000153</td>\n",
       "      <td id=\"T_c88c7_row5_col9\" class=\"data row5 col9\" >0.000016</td>\n",
       "    </tr>\n",
       "    <tr>\n",
       "      <th id=\"T_c88c7_level0_row6\" class=\"row_heading level0 row6\" >als</th>\n",
       "      <td id=\"T_c88c7_row6_col0\" class=\"data row6 col0\" >0.087370</td>\n",
       "      <td id=\"T_c88c7_row6_col1\" class=\"data row6 col1\" >0.015792</td>\n",
       "      <td id=\"T_c88c7_row6_col2\" class=\"data row6 col2\" >0.012522</td>\n",
       "      <td id=\"T_c88c7_row6_col3\" class=\"data row6 col3\" >0.001735</td>\n",
       "      <td id=\"T_c88c7_row6_col4\" class=\"data row6 col4\" >0.087370</td>\n",
       "      <td id=\"T_c88c7_row6_col5\" class=\"data row6 col5\" >0.015792</td>\n",
       "      <td id=\"T_c88c7_row6_col6\" class=\"data row6 col6\" >5.760624</td>\n",
       "      <td id=\"T_c88c7_row6_col7\" class=\"data row6 col7\" >0.035605</td>\n",
       "      <td id=\"T_c88c7_row6_col8\" class=\"data row6 col8\" >0.000103</td>\n",
       "      <td id=\"T_c88c7_row6_col9\" class=\"data row6 col9\" >0.000004</td>\n",
       "    </tr>\n",
       "    <tr>\n",
       "      <th id=\"T_c88c7_level0_row7\" class=\"row_heading level0 row7\" >ease</th>\n",
       "      <td id=\"T_c88c7_row7_col0\" class=\"data row7 col0\" >0.002448</td>\n",
       "      <td id=\"T_c88c7_row7_col1\" class=\"data row7 col1\" >0.000662</td>\n",
       "      <td id=\"T_c88c7_row7_col2\" class=\"data row7 col2\" >0.000350</td>\n",
       "      <td id=\"T_c88c7_row7_col3\" class=\"data row7 col3\" >0.000077</td>\n",
       "      <td id=\"T_c88c7_row7_col4\" class=\"data row7 col4\" >0.002448</td>\n",
       "      <td id=\"T_c88c7_row7_col5\" class=\"data row7 col5\" >0.000662</td>\n",
       "      <td id=\"T_c88c7_row7_col6\" class=\"data row7 col6\" >12.250559</td>\n",
       "      <td id=\"T_c88c7_row7_col7\" class=\"data row7 col7\" >0.025046</td>\n",
       "      <td id=\"T_c88c7_row7_col8\" class=\"data row7 col8\" >0.000053</td>\n",
       "      <td id=\"T_c88c7_row7_col9\" class=\"data row7 col9\" >0.000019</td>\n",
       "    </tr>\n",
       "  </tbody>\n",
       "</table>\n"
      ],
      "text/plain": [
       "<pandas.io.formats.style.Styler at 0x7f8b211ab9a0>"
      ]
     },
     "execution_count": 76,
     "metadata": {},
     "output_type": "execute_result"
    }
   ],
   "source": [
    "pivot_results = (\n",
    "    pd.DataFrame(cv_results[\"metrics\"])\n",
    "    .drop(columns=\"i_split\")\n",
    "    .groupby([\"model\"], sort=False)\n",
    "    .agg([\"mean\", \"std\"])\n",
    ")\n",
    "mean_metric_subset = [(metric, \"mean\") for metric in pivot_results.columns.levels[0]]\n",
    "(\n",
    "    pivot_results.style\n",
    "    .highlight_min(subset=mean_metric_subset, color='lightcoral', axis=0)\n",
    "    .highlight_max(subset=mean_metric_subset, color='lightgreen', axis=0)\n",
    ")"
   ]
  },
  {
   "cell_type": "code",
   "execution_count": 77,
   "id": "8f761f76-fd9d-4aa3-aa20-db223b06f46a",
   "metadata": {},
   "outputs": [],
   "source": [
    "random_model = RandomModel(random_state=42)"
   ]
  },
  {
   "cell_type": "code",
   "execution_count": 78,
   "id": "7f9424c3-f203-44d4-b6ce-9c80e2b5ebeb",
   "metadata": {},
   "outputs": [
    {
     "data": {
      "text/plain": [
       "<rectools.models.random.RandomModel at 0x7f8ae8905db0>"
      ]
     },
     "execution_count": 78,
     "metadata": {},
     "output_type": "execute_result"
    }
   ],
   "source": [
    "random_model.fit(dataset)"
   ]
  },
  {
   "cell_type": "code",
   "execution_count": 79,
   "id": "5cfa8b8b-f191-4854-b805-87f88e930611",
   "metadata": {},
   "outputs": [],
   "source": [
    "tfidf = ImplicitItemKNNWrapperModel(model=TFIDFRecommender(K=5))"
   ]
  },
  {
   "cell_type": "code",
   "execution_count": 80,
   "id": "9074b541-c9e1-4461-aa81-5159fc8a5195",
   "metadata": {},
   "outputs": [
    {
     "data": {
      "text/plain": [
       "<rectools.models.implicit_knn.ImplicitItemKNNWrapperModel at 0x7f8ae8907a00>"
      ]
     },
     "execution_count": 80,
     "metadata": {},
     "output_type": "execute_result"
    }
   ],
   "source": [
    "tfidf.fit(dataset)"
   ]
  },
  {
   "cell_type": "code",
   "execution_count": 81,
   "id": "3126ff3f-91e6-4344-aff1-70b1a55e784d",
   "metadata": {},
   "outputs": [],
   "source": [
    "bm_model = ImplicitItemKNNWrapperModel(model=BM25Recommender(K=5, K1=0.05, B=0.1))"
   ]
  },
  {
   "cell_type": "code",
   "execution_count": 82,
   "id": "abb5d8fd-03f0-4091-8905-93941aee3406",
   "metadata": {},
   "outputs": [
    {
     "data": {
      "text/plain": [
       "<rectools.models.implicit_knn.ImplicitItemKNNWrapperModel at 0x7f8ae8907fd0>"
      ]
     },
     "execution_count": 82,
     "metadata": {},
     "output_type": "execute_result"
    }
   ],
   "source": [
    "bm_model.fit(dataset)"
   ]
  },
  {
   "cell_type": "code",
   "execution_count": 83,
   "id": "fcfb408e-d4dd-4a59-8cef-6341ab171bc3",
   "metadata": {},
   "outputs": [],
   "source": [
    "#test"
   ]
  },
  {
   "cell_type": "code",
   "execution_count": 84,
   "id": "a1c64f86-2177-4e28-9d20-fc4e8e25249a",
   "metadata": {},
   "outputs": [],
   "source": [
    "test = test[test.user_id.isin(train.user_id.unique())]"
   ]
  },
  {
   "cell_type": "code",
   "execution_count": 85,
   "id": "546526be-d9bc-4189-bdd7-e54fbcc7e45a",
   "metadata": {},
   "outputs": [],
   "source": [
    "random_test_recos = random_model.recommend(\n",
    "    users=test.user_id.unique(),\n",
    "    dataset=dataset,\n",
    "    k=150,\n",
    "    filter_viewed=True\n",
    ")"
   ]
  },
  {
   "cell_type": "code",
   "execution_count": 86,
   "id": "558f7b13-14ba-4bbc-b2d1-5076327504eb",
   "metadata": {},
   "outputs": [],
   "source": [
    "tfidf_test_recos = tfidf.recommend(\n",
    "    users=test.user_id.unique(),\n",
    "    dataset=dataset,\n",
    "    k=150,\n",
    "    filter_viewed=True\n",
    ")"
   ]
  },
  {
   "cell_type": "code",
   "execution_count": 87,
   "id": "8bbf905b-15ef-40a6-81d2-b8200c04978e",
   "metadata": {},
   "outputs": [],
   "source": [
    "bm_test_recos = bm_model.recommend(\n",
    "    users=test.user_id.unique(),\n",
    "    dataset=dataset,\n",
    "    k=150,\n",
    "    filter_viewed=True\n",
    ")"
   ]
  },
  {
   "cell_type": "code",
   "execution_count": 88,
   "id": "16467dad-ca00-4a74-99e8-01e3df1be4c4",
   "metadata": {},
   "outputs": [],
   "source": [
    "metrics_name = {\n",
    "    'MAP': MAP,\n",
    "    'Precision': Precision,\n",
    "    'Recall' : Recall,\n",
    "    'MIUF': MeanInvUserFreq\n",
    "    \n",
    "\n",
    "}\n",
    "metrics = {}\n",
    "for metric_name, metric in metrics_name.items():\n",
    "    for k in (1, 5, 10):\n",
    "        metrics[f'{metric_name}@{k}'] = metric(k=k)"
   ]
  },
  {
   "cell_type": "code",
   "execution_count": 91,
   "id": "5c096870-92d4-4788-b709-2db5d01de5d0",
   "metadata": {},
   "outputs": [],
   "source": [
    "two_recos = random_test_recos.merge(tfidf_test_recos, on = ['user_id', 'item_id'], how='left', suffixes=['_random', '_tfidf'])"
   ]
  },
  {
   "cell_type": "code",
   "execution_count": 92,
   "id": "f318c9dd-e31f-4bb1-a0b5-2279d23add3c",
   "metadata": {},
   "outputs": [],
   "source": [
    "two_recos = two_recos.merge(bm_test_recos, on = ['user_id', 'item_id'], how='left')"
   ]
  },
  {
   "cell_type": "code",
   "execution_count": 95,
   "id": "661b99eb-3bb5-49ba-aa62-edab584df2b8",
   "metadata": {},
   "outputs": [],
   "source": [
    "two_recos.fillna(0,inplace=True)"
   ]
  },
  {
   "cell_type": "code",
   "execution_count": 107,
   "id": "93f4dba6-57de-4a9a-906b-acb74293eecc",
   "metadata": {},
   "outputs": [
    {
     "name": "stdout",
     "output_type": "stream",
     "text": [
      "<class 'pandas.core.frame.DataFrame'>\n",
      "RangeIndex: 12378900 entries, 0 to 12378899\n",
      "Data columns (total 9 columns):\n",
      " #   Column        Dtype  \n",
      "---  ------        -----  \n",
      " 0   user_id       int64  \n",
      " 1   item_id       int64  \n",
      " 2   score_random  int64  \n",
      " 3   rank_random   int64  \n",
      " 4   score_tfidf   float64\n",
      " 5   rank_tfidf    float64\n",
      " 6   score         float64\n",
      " 7   rank          float64\n",
      " 8   avg_rank      float64\n",
      "dtypes: float64(5), int64(4)\n",
      "memory usage: 850.0 MB\n"
     ]
    }
   ],
   "source": [
    "two_recos.info()"
   ]
  },
  {
   "cell_type": "code",
   "execution_count": 106,
   "id": "425eff19-4791-4c44-a677-b54d81647328",
   "metadata": {},
   "outputs": [],
   "source": [
    "two_recos['avg_rank'] = (two_recos.rank_random + two_recos.rank_tfidf + two_recos['rank']) // 3"
   ]
  },
  {
   "cell_type": "code",
   "execution_count": 113,
   "id": "7dd12bb6-1927-4003-bd94-65b9979c3db2",
   "metadata": {},
   "outputs": [],
   "source": [
    "two_recos['rank'] = two_recos['avg_rank'].astype(np.int32) + 1"
   ]
  },
  {
   "cell_type": "code",
   "execution_count": null,
   "id": "59cc81ed-e3f5-4f6f-9cd4-e14e89439493",
   "metadata": {},
   "outputs": [],
   "source": []
  },
  {
   "cell_type": "code",
   "execution_count": 114,
   "id": "747c10b1-fbda-4279-b69a-ae1199a8e753",
   "metadata": {},
   "outputs": [],
   "source": [
    "metric_values = calc_metrics(metrics, two_recos, test[['user_id', 'item_id']], train[['user_id', 'item_id']])"
   ]
  },
  {
   "cell_type": "code",
   "execution_count": 115,
   "id": "2ef84ec9-3465-4028-a43f-dacf84113e2e",
   "metadata": {},
   "outputs": [
    {
     "data": {
      "text/plain": [
       "{'Precision@1': 0.0,\n",
       " 'Recall@1': 0.0,\n",
       " 'Precision@5': 0.0,\n",
       " 'Recall@5': 0.0,\n",
       " 'Precision@10': 0.0,\n",
       " 'Recall@10': 0.0,\n",
       " 'MAP@1': 0.0,\n",
       " 'MAP@5': 0.0,\n",
       " 'MAP@10': 0.0,\n",
       " 'MIUF@1': 13.212664736275894,\n",
       " 'MIUF@5': 13.21324943148537,\n",
       " 'MIUF@10': 13.207370350283457}"
      ]
     },
     "execution_count": 115,
     "metadata": {},
     "output_type": "execute_result"
    }
   ],
   "source": [
    "metric_values"
   ]
  },
  {
   "cell_type": "code",
   "execution_count": 116,
   "id": "122d2c1c-ca6b-42d0-99fc-477ab663b38f",
   "metadata": {},
   "outputs": [],
   "source": [
    "# Похоже пока я шифровал данные, накосячил(( У Вас в вашей работе на этих метриках не должны быть нули"
   ]
  },
  {
   "cell_type": "code",
   "execution_count": null,
   "id": "9d2763e6-ce68-4efe-8729-e1bc9ec16b03",
   "metadata": {},
   "outputs": [],
   "source": []
  },
  {
   "cell_type": "code",
   "execution_count": null,
   "id": "25fd7a4c-5c5f-439d-bb55-e31298506030",
   "metadata": {},
   "outputs": [],
   "source": []
  }
 ],
 "metadata": {
  "kernelspec": {
   "display_name": "Python 3",
   "language": "python",
   "name": "python3"
  },
  "language_info": {
   "codemirror_mode": {
    "name": "ipython",
    "version": 3
   },
   "file_extension": ".py",
   "mimetype": "text/x-python",
   "name": "python",
   "nbconvert_exporter": "python",
   "pygments_lexer": "ipython3",
   "version": "3.9.7"
  }
 },
 "nbformat": 4,
 "nbformat_minor": 5
}
